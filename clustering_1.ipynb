{
 "cells": [
  {
   "cell_type": "code",
   "execution_count": null,
   "metadata": {
    "collapsed": true
   },
   "outputs": [],
   "source": [
    "import numpy as np\n",
    "import pandas as pd\n",
    "import re\n",
    "import string\n",
    "import pandas_import_and_export"
   ]
  },
  {
   "cell_type": "markdown",
   "metadata": {},
   "source": [
    "# Summer Reading Book Clustering, part 1: Initial cleaning\n",
    "In this notebook, we will clean the self-reported summer reading data in an attempt to make the titles and authors more comparable and remove unusable entries.\n",
    "\n",
    "First, import the csv of user-entered books as a pandas dataframe."
   ]
  },
  {
   "cell_type": "code",
   "execution_count": null,
   "metadata": {
    "collapsed": true
   },
   "outputs": [],
   "source": [
    "df = pandas_import_and_export.read_csv(\"bookslogged\")  \n",
    "df[:10]"
   ]
  },
  {
   "cell_type": "markdown",
   "metadata": {
    "collapsed": true
   },
   "source": [
    "Clean entries, removing a few things the openlibrary search doesnt like that show up in many entries."
   ]
  },
  {
   "cell_type": "code",
   "execution_count": null,
   "metadata": {
    "collapsed": true
   },
   "outputs": [],
   "source": [
    "def clean_title(s): \n",
    "    s = s.strip().lower()\n",
    "    \n",
    "    #search for some version of \"vol. 3\" or \"v.5\" at end \n",
    "    #and remove it if it exists\n",
    "    match = re.search(r\",? +v(ol)? *\\.? *[1-9]+$\",  s)\n",
    "    if match:\n",
    "        #print(\"Removing vol:\")\n",
    "        #print(s)\n",
    "        s = s[:match.start()].strip()\n",
    "        #print(\"-->\" + s)\n",
    "        \n",
    "    #search for some version of a date at beginning and remove\n",
    "    #two forms are common in the data: \"(1994) title\" and \"1994 - title\"\n",
    "    #search for those forms separately and specifically  in order to not delete dates in other forms\n",
    "    #because those tend to be part of the title\n",
    "    match = re.match(r\"\\([0-9]{4}\\) \",  s)\n",
    "    if not match: match = re.match(r\"[0-9]{4} -\",  s)\n",
    "    if match:\n",
    "        #print(\"Removing date at beginning:\")\n",
    "        #print(s)\n",
    "        s = s[match.end():].strip()\n",
    "        #print(\"-->\" + s)\n",
    "\n",
    "    return s\n",
    "\n",
    "def clean_author(s):\n",
    "    s = s.strip().lower()\n",
    "    return s\n",
    "        \n",
    "df['title'] = df['title'].apply(clean_title)\n",
    "df['author'] = df['author'].apply(clean_author)\n",
    "df[:10]"
   ]
  },
  {
   "cell_type": "markdown",
   "metadata": {},
   "source": [
    "Delete \"bad\" rows (no title, or weird short title and no author)"
   ]
  },
  {
   "cell_type": "code",
   "execution_count": null,
   "metadata": {
    "collapsed": true
   },
   "outputs": [],
   "source": [
    "def isBadTitle(title):\n",
    "    #defines 'bad\" as:\n",
    "    #a sequence of digits and punctation with lentgh between 0 and 3\n",
    "    if re.match(\n",
    "        r\"([\" + string.digits + string.punctuation + r\"]*)$\",  \n",
    "        title\n",
    "    ): return True\n",
    "    else: return False\n",
    "\n",
    "badrows = []\n",
    "for i, row in df.iterrows():\n",
    "    if (row.title == \"logged a book, but no title\"\n",
    "    or (isBadTitle(row.title) and row.author == \"\")):\n",
    "        badrows.append(i)\n",
    "        \n",
    "df = df.drop(badrows)\n",
    "df[:10]"
   ]
  },
  {
   "cell_type": "markdown",
   "metadata": {},
   "source": [
    "Group together rows whose title and author fields match exactly, adding up times they were read ('sum') and keeping track of number of rows in each group ('count')."
   ]
  },
  {
   "cell_type": "code",
   "execution_count": null,
   "metadata": {
    "collapsed": true
   },
   "outputs": [],
   "source": [
    "df_grouped = df.groupby(\n",
    "    ['title', 'author'],\n",
    "    \n",
    "    as_index = False\n",
    "    #this is so that title and author will be made into normal cols rather than\n",
    "    #weird index cols\n",
    ").agg(\n",
    "    {'value' : ['sum', 'count']}\n",
    "    #sum up the \"value\" columns for each group.\n",
    "    #\"count\" just counts the number of rows in each group (will become \"num_readers\")\n",
    ")\n",
    "\n",
    "#rename to more sensible column names for the sum and count\n",
    "df_grouped.columns = ['title', 'author', 'num_times_read', 'num_readers']\n",
    "\n",
    "df_grouped[:10]"
   ]
  },
  {
   "cell_type": "code",
   "execution_count": null,
   "metadata": {
    "collapsed": true
   },
   "outputs": [],
   "source": [
    "pandas_import_and_export.to_csv(df_grouped, \"bookslogged_clean\")"
   ]
  }
 ],
 "metadata": {
  "kernelspec": {
   "display_name": "Python 3",
   "language": "python",
   "name": "python3"
  },
  "language_info": {
   "codemirror_mode": {
    "name": "ipython",
    "version": 3
   },
   "file_extension": ".py",
   "mimetype": "text/x-python",
   "name": "python",
   "nbconvert_exporter": "python",
   "pygments_lexer": "ipython3",
   "version": "3.6.2"
  }
 },
 "nbformat": 4,
 "nbformat_minor": 2
}
