{
 "cells": [
  {
   "cell_type": "code",
   "execution_count": 1,
   "metadata": {
    "collapsed": true
   },
   "outputs": [],
   "source": [
    "import numpy as np\n",
    "import pandas as pd\n",
    "import requests\n",
    "from pandas.io.json import json_normalize\n",
    "from threading import Thread\n",
    "from queue import Queue\n",
    "import pandas_import_and_export"
   ]
  },
  {
   "cell_type": "markdown",
   "metadata": {},
   "source": [
    "# Summer Reading Book Clustering, part 2: Openlibrary search\n",
    "In this notebook, we will query the openlibrary database in an attempt to match books in the database with cleaned user-entered data from part 1. The openlibrary search function is pretty picky, so there will be a lot of data that won't be matched, but this will provide a good base to build the book clusters on in part 3."
   ]
  },
  {
   "cell_type": "code",
   "execution_count": 4,
   "metadata": {
    "collapsed": true
   },
   "outputs": [],
   "source": [
    "df = pandas_import_and_export.read_csv(\"bookslogged_clean\")   \n",
    "\n",
    "#create blank cols to be filled\n",
    "df['matched_title'] = pd.Series(\"\", index=df.index)\n",
    "df['matched_author'] = pd.Series(\"\", index=df.index)\n",
    "df[:10]\n",
    "df = df[:100]"
   ]
  },
  {
   "cell_type": "markdown",
   "metadata": {},
   "source": [
    "## It's querying time!\n",
    "\n",
    "Create a function called get_book, which takes an entered title and author and returns a tuple of matched title and matched author (or None and None, if the search returned no results)\n",
    "\n",
    "Built with this code as a base: https://github.com/saulshanabrook/openpgh-library/blob/master/Untitled.ipynb\n",
    "\n",
    "Includes many modifications in an attempt to improve the book matching."
   ]
  },
  {
   "cell_type": "raw",
   "metadata": {},
   "source": [
    "#testing block to test if openlibrary has results for a specific query\n",
    "#make raw when not using\n",
    "\n",
    "d = requests.get(\n",
    "    'http://openlibrary.org/search.json', \n",
    "    {'title':'100 bullets vol. 1',\n",
    "     'author':'brian azzarello'}\n",
    ").json()['docs'][0]\n",
    "\n",
    "print(str(d['title']))\n",
    "print(str(d['author_name']))"
   ]
  },
  {
   "cell_type": "code",
   "execution_count": 5,
   "metadata": {
    "collapsed": true
   },
   "outputs": [],
   "source": [
    "def submit_query(query):\n",
    "    #query should be in the form of a dict, where key is field name and value is entry for that field.\n",
    "    #most relevant field names are 'title', 'author', and 'q' (searches all fields)\n",
    "    resp = None\n",
    "    try:\n",
    "        #query the openlibrary search\n",
    "        resp = requests.get(\n",
    "            'http://openlibrary.org/search.json', \n",
    "            query\n",
    "        ).json()['docs'][0]\n",
    "    except IndexError:\n",
    "        #in this case, no results were returned\n",
    "        pass\n",
    "    finally:\n",
    "        return resp"
   ]
  },
  {
   "cell_type": "code",
   "execution_count": 6,
   "metadata": {
    "collapsed": true
   },
   "outputs": [],
   "source": [
    "def get_title(d):\n",
    "    #d is a json object returned from the OL database\n",
    "    try:\n",
    "        return d['title']\n",
    "    except Exception:\n",
    "        return None"
   ]
  },
  {
   "cell_type": "code",
   "execution_count": 7,
   "metadata": {
    "collapsed": true
   },
   "outputs": [],
   "source": [
    "def get_author(d):\n",
    "    #d is a json object returned from the OL database\n",
    "    try:\n",
    "        s = \"\"\n",
    "        for author in d['author_name']:\n",
    "            s = s + author + \", \" \n",
    "        s = s[:-2] #remove last comma\n",
    "        return s\n",
    "    except Exception:\n",
    "        return None "
   ]
  },
  {
   "cell_type": "code",
   "execution_count": 8,
   "metadata": {
    "collapsed": true
   },
   "outputs": [],
   "source": [
    "def get_book(title, author):\n",
    "    #title, author are user-entered\n",
    "    #returns a tuple of (title, author) matched by OL database\n",
    "    #or (None, None) if no match\n",
    "    \n",
    "    if author == \"\":\n",
    "        query = {'title': title}\n",
    "    else:\n",
    "        query = {'title': title,\n",
    "                 'author' : author}\n",
    "    #print(str(query))\n",
    "    \n",
    "    result = submit_query(query)\n",
    "    #print(\"Response type: \" + str(type(result)))\n",
    "    if result != None: \n",
    "        pass\n",
    "        #print(result['title']) \n",
    "    else: \n",
    "        pass\n",
    "        #print(\"None\")\n",
    "    \n",
    "    return (get_title(result), get_author(result))"
   ]
  },
  {
   "cell_type": "raw",
   "metadata": {},
   "source": [
    "#nonthreading version\n",
    "#make raw when not using\n",
    "\n",
    "for i, row in df.iterrows():\n",
    "    title = row['title']\n",
    "    author = row['author']\n",
    "    \n",
    "    (matched_title, matched_author) = get_book(title, author)\n",
    "        \n",
    "    df.set_value(i, 'matched_title', matched_title)\n",
    "    df.set_value(i, 'matched_author', matched_author)"
   ]
  },
  {
   "cell_type": "code",
   "execution_count": 10,
   "metadata": {},
   "outputs": [
    {
     "name": "stdout",
     "output_type": "stream",
     "text": [
      "done\n"
     ]
    }
   ],
   "source": [
    "#threading version\n",
    "#make raw when not using\n",
    "\n",
    "q = Queue()\n",
    "\n",
    "def doWork():\n",
    "    while not q.empty():\n",
    "        (i, (title, author)) = q.get_nowait()\n",
    "        \n",
    "        (matched_title, matched_author) = get_book(title, author)\n",
    "        \n",
    "        df.set_value(i, 'matched_title', matched_title)\n",
    "        df.set_value(i, 'matched_author', matched_author)\n",
    "        \n",
    "        q.task_done()\n",
    "\n",
    "#fill the queue\n",
    "for i, row in df.iterrows():\n",
    "    title = row['title']\n",
    "    author = row['author']\n",
    "    q.put((i, (title, author)))\n",
    "\n",
    "for i in range(20):\n",
    "    t = Thread(target=doWork)\n",
    "    t.daemon = True\n",
    "    t.start()\n",
    "    t.join()  #add this so that the main thread does not continue exectuing until all other threads finish\n",
    "    \n",
    "print(\"done\")"
   ]
  },
  {
   "cell_type": "markdown",
   "metadata": {},
   "source": [
    "Finally, export the results to a CSV to be viewed easily in excel."
   ]
  },
  {
   "cell_type": "code",
   "execution_count": 14,
   "metadata": {
    "collapsed": true
   },
   "outputs": [],
   "source": [
    "pandas_import_and_export.to_csv(df, \"matchedbooks\")"
   ]
  }
 ],
 "metadata": {
  "kernelspec": {
   "display_name": "Python 3",
   "language": "python",
   "name": "python3"
  },
  "language_info": {
   "codemirror_mode": {
    "name": "ipython",
    "version": 3
   },
   "file_extension": ".py",
   "mimetype": "text/x-python",
   "name": "python",
   "nbconvert_exporter": "python",
   "pygments_lexer": "ipython3",
   "version": "3.6.2"
  }
 },
 "nbformat": 4,
 "nbformat_minor": 2
}
